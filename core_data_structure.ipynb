{
 "cells": [
  {
   "cell_type": "code",
   "execution_count": 1,
   "id": "04f3219c-bee4-41e8-8f7d-e1c2c2469217",
   "metadata": {},
   "outputs": [],
   "source": [
    "import pandas as pd"
   ]
  },
  {
   "cell_type": "markdown",
   "id": "87abcac7-5701-4258-a3d5-290ff3717022",
   "metadata": {},
   "source": [
    "We are going to learn series first"
   ]
  },
  {
   "cell_type": "code",
   "execution_count": 3,
   "id": "3e4cd247-7689-40b3-8b24-f48c88f0c652",
   "metadata": {},
   "outputs": [],
   "source": [
    "s1 = pd.Series([71,84,56,23,58,98])"
   ]
  },
  {
   "cell_type": "code",
   "execution_count": 6,
   "id": "ecdf2d36-8eb5-492a-be5b-86bcd3d9385d",
   "metadata": {},
   "outputs": [
    {
     "data": {
      "text/plain": [
       "pandas.core.series.Series"
      ]
     },
     "execution_count": 6,
     "metadata": {},
     "output_type": "execute_result"
    }
   ],
   "source": [
    "type(s)"
   ]
  },
  {
   "cell_type": "code",
   "execution_count": 7,
   "id": "f2d1d6b8-5a11-4a28-98e3-d5e9b9e4ca34",
   "metadata": {},
   "outputs": [
    {
     "name": "stdout",
     "output_type": "stream",
     "text": [
      "0    71\n",
      "1    84\n",
      "2    56\n",
      "3    23\n",
      "4    58\n",
      "5    98\n",
      "dtype: int64\n"
     ]
    }
   ],
   "source": [
    "print(s)"
   ]
  },
  {
   "cell_type": "markdown",
   "id": "432b4971-88d0-485b-8847-476ce66fffc0",
   "metadata": {},
   "source": [
    "We can also assign indexing one by one using manual way"
   ]
  },
  {
   "cell_type": "code",
   "execution_count": 20,
   "id": "b8cea525-0fcc-497f-8a37-6d632a6f6b08",
   "metadata": {},
   "outputs": [],
   "source": [
    "s2 = pd.Series([71,84,56,23,58,98], index = [\"Harry\",\"Rohit\",\"Rahul\",\"Shubham\",\"Prithvi\",\"Deepali\"])"
   ]
  },
  {
   "cell_type": "code",
   "execution_count": 21,
   "id": "1caca85f-b114-4a99-9ec1-6cb3c279b76a",
   "metadata": {},
   "outputs": [
    {
     "data": {
      "text/plain": [
       "Harry      71\n",
       "Rohit      84\n",
       "Rahul      56\n",
       "Shubham    23\n",
       "Prithvi    58\n",
       "Deepali    98\n",
       "dtype: int64"
      ]
     },
     "execution_count": 21,
     "metadata": {},
     "output_type": "execute_result"
    }
   ],
   "source": [
    "s1"
   ]
  },
  {
   "cell_type": "code",
   "execution_count": 22,
   "id": "c370161d-fcfe-4515-88ae-d8bc81821abd",
   "metadata": {},
   "outputs": [
    {
     "data": {
      "text/plain": [
       "Harry      71\n",
       "Rohit      84\n",
       "Rahul      56\n",
       "Shubham    23\n",
       "Prithvi    58\n",
       "Deepali    98\n",
       "dtype: int64"
      ]
     },
     "execution_count": 22,
     "metadata": {},
     "output_type": "execute_result"
    }
   ],
   "source": [
    "s2"
   ]
  },
  {
   "cell_type": "code",
   "execution_count": 23,
   "id": "b589746c-b040-4dff-b56c-43c4042f84b7",
   "metadata": {},
   "outputs": [
    {
     "data": {
      "text/plain": [
       "np.int64(84)"
      ]
     },
     "execution_count": 23,
     "metadata": {},
     "output_type": "execute_result"
    }
   ],
   "source": [
    "s2[\"Rohit\"]"
   ]
  },
  {
   "cell_type": "code",
   "execution_count": 24,
   "id": "420aa65b-ff70-497b-896f-96a07f2b6f46",
   "metadata": {},
   "outputs": [
    {
     "data": {
      "text/plain": [
       "np.int64(23)"
      ]
     },
     "execution_count": 24,
     "metadata": {},
     "output_type": "execute_result"
    }
   ],
   "source": [
    "s2[\"Shubham\"]"
   ]
  },
  {
   "cell_type": "markdown",
   "id": "eaf69757-7be0-4a96-9ba1-d8ca56c91417",
   "metadata": {},
   "source": [
    "# DataFrame - 2D Labeled Table\n",
    ". A DataFrame is like a dictionary of Series -- multiple columns with labels"
   ]
  },
  {
   "cell_type": "code",
   "execution_count": 25,
   "id": "2cac7918-5497-4f05-be77-a42f4527fede",
   "metadata": {},
   "outputs": [
    {
     "name": "stdout",
     "output_type": "stream",
     "text": [
      "    name  age         city\n",
      "0  Rohit   21   Kapurthala\n",
      "1  Rahul   24  Uttarakhand\n",
      "2  Mohit   12     Motihari\n"
     ]
    }
   ],
   "source": [
    "data = {\n",
    "    \"name\": [\"Rohit\",\"Rahul\",\"Mohit\"],\n",
    "    \"age\": [21, 24, 12],\n",
    "    \"city\": [\"Kapurthala\", \"Uttarakhand\", \"Motihari\"],\n",
    "\n",
    "}\n",
    "\n",
    "df = pd.DataFrame(data)\n",
    "print(df)"
   ]
  },
  {
   "cell_type": "code",
   "execution_count": 26,
   "id": "34bfd78d-a2c6-4bed-ad0f-53496cb77d2c",
   "metadata": {},
   "outputs": [
    {
     "data": {
      "text/plain": [
       "RangeIndex(start=0, stop=3, step=1)"
      ]
     },
     "execution_count": 26,
     "metadata": {},
     "output_type": "execute_result"
    }
   ],
   "source": [
    "df.index"
   ]
  },
  {
   "cell_type": "code",
   "execution_count": 27,
   "id": "e75a88c5-fe0d-4030-9ae8-b899d594ec02",
   "metadata": {},
   "outputs": [
    {
     "data": {
      "text/plain": [
       "Index(['name', 'age', 'city'], dtype='object')"
      ]
     },
     "execution_count": 27,
     "metadata": {},
     "output_type": "execute_result"
    }
   ],
   "source": [
    "df.columns"
   ]
  },
  {
   "cell_type": "code",
   "execution_count": null,
   "id": "7398d117-aeae-481d-a2a9-3ccf1fe59fde",
   "metadata": {},
   "outputs": [],
   "source": []
  }
 ],
 "metadata": {
  "kernelspec": {
   "display_name": "Python [conda env:miniconda3-eda-env]",
   "language": "python",
   "name": "conda-env-miniconda3-eda-env-py"
  },
  "language_info": {
   "codemirror_mode": {
    "name": "ipython",
    "version": 3
   },
   "file_extension": ".py",
   "mimetype": "text/x-python",
   "name": "python",
   "nbconvert_exporter": "python",
   "pygments_lexer": "ipython3",
   "version": "3.10.16"
  }
 },
 "nbformat": 4,
 "nbformat_minor": 5
}
