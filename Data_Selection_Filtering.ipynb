{
 "cells": [
  {
   "cell_type": "code",
   "execution_count": 64,
   "id": "eb253669-9b12-43c4-adc6-7e3652f60711",
   "metadata": {},
   "outputs": [],
   "source": [
    "import pandas as pd"
   ]
  },
  {
   "cell_type": "code",
   "execution_count": 65,
   "id": "42839724-89f8-408a-b14e-f91affc2e124",
   "metadata": {},
   "outputs": [],
   "source": [
    "df = pd.read_csv(\"rohit.csv\")"
   ]
  },
  {
   "cell_type": "code",
   "execution_count": 66,
   "id": "04c921c0-9434-433e-a4cb-f2750c04d175",
   "metadata": {},
   "outputs": [
    {
     "data": {
      "text/html": [
       "<div>\n",
       "<style scoped>\n",
       "    .dataframe tbody tr th:only-of-type {\n",
       "        vertical-align: middle;\n",
       "    }\n",
       "\n",
       "    .dataframe tbody tr th {\n",
       "        vertical-align: top;\n",
       "    }\n",
       "\n",
       "    .dataframe thead th {\n",
       "        text-align: right;\n",
       "    }\n",
       "</style>\n",
       "<table border=\"1\" class=\"dataframe\">\n",
       "  <thead>\n",
       "    <tr style=\"text-align: right;\">\n",
       "      <th></th>\n",
       "      <th>Actor</th>\n",
       "      <th>Film</th>\n",
       "      <th>Year</th>\n",
       "      <th>BoxOffice(INR Crore)</th>\n",
       "      <th>IMDb</th>\n",
       "    </tr>\n",
       "  </thead>\n",
       "  <tbody>\n",
       "    <tr>\n",
       "      <th>0</th>\n",
       "      <td>Shah Rukh Khan</td>\n",
       "      <td>Pathaan</td>\n",
       "      <td>2023</td>\n",
       "      <td>1050</td>\n",
       "      <td>7.2</td>\n",
       "    </tr>\n",
       "    <tr>\n",
       "      <th>1</th>\n",
       "      <td>Salman Khan</td>\n",
       "      <td>Tiger Zinda Hai</td>\n",
       "      <td>2017</td>\n",
       "      <td>565</td>\n",
       "      <td>6.0</td>\n",
       "    </tr>\n",
       "    <tr>\n",
       "      <th>2</th>\n",
       "      <td>Amir Khan</td>\n",
       "      <td>Dangal</td>\n",
       "      <td>2016</td>\n",
       "      <td>2024</td>\n",
       "      <td>8.4</td>\n",
       "    </tr>\n",
       "    <tr>\n",
       "      <th>3</th>\n",
       "      <td>Ranbir Kapoor</td>\n",
       "      <td>Brahmastra</td>\n",
       "      <td>2022</td>\n",
       "      <td>431</td>\n",
       "      <td>5.6</td>\n",
       "    </tr>\n",
       "    <tr>\n",
       "      <th>4</th>\n",
       "      <td>Ranveer Singh</td>\n",
       "      <td>Padmaavat</td>\n",
       "      <td>2018</td>\n",
       "      <td>585</td>\n",
       "      <td>7.0</td>\n",
       "    </tr>\n",
       "    <tr>\n",
       "      <th>5</th>\n",
       "      <td>Ayushmann Khurrana</td>\n",
       "      <td>Andhadhun</td>\n",
       "      <td>2018</td>\n",
       "      <td>111</td>\n",
       "      <td>8.3</td>\n",
       "    </tr>\n",
       "    <tr>\n",
       "      <th>6</th>\n",
       "      <td>Rajkumar Rao</td>\n",
       "      <td>Stree</td>\n",
       "      <td>2018</td>\n",
       "      <td>180</td>\n",
       "      <td>7.5</td>\n",
       "    </tr>\n",
       "    <tr>\n",
       "      <th>7</th>\n",
       "      <td>Hrithik Roshan</td>\n",
       "      <td>War</td>\n",
       "      <td>2019</td>\n",
       "      <td>475</td>\n",
       "      <td>6.5</td>\n",
       "    </tr>\n",
       "    <tr>\n",
       "      <th>8</th>\n",
       "      <td>Akshay Kumar</td>\n",
       "      <td>Good Newwz</td>\n",
       "      <td>2019</td>\n",
       "      <td>318</td>\n",
       "      <td>7.0</td>\n",
       "    </tr>\n",
       "    <tr>\n",
       "      <th>9</th>\n",
       "      <td>Kartik Aaryan</td>\n",
       "      <td>Bhool Bhulaiyaa</td>\n",
       "      <td>2022</td>\n",
       "      <td>266</td>\n",
       "      <td>5.9</td>\n",
       "    </tr>\n",
       "    <tr>\n",
       "      <th>10</th>\n",
       "      <td>Varun Dhawan</td>\n",
       "      <td>Badrinath Ki Dulhanyia</td>\n",
       "      <td>2017</td>\n",
       "      <td>201</td>\n",
       "      <td>6.1</td>\n",
       "    </tr>\n",
       "    <tr>\n",
       "      <th>11</th>\n",
       "      <td>Vicky Kaushal</td>\n",
       "      <td>Uri: The surgical strike</td>\n",
       "      <td>2019</td>\n",
       "      <td>342</td>\n",
       "      <td>8.2</td>\n",
       "    </tr>\n",
       "  </tbody>\n",
       "</table>\n",
       "</div>"
      ],
      "text/plain": [
       "                 Actor                      Film  Year  BoxOffice(INR Crore)  \\\n",
       "0       Shah Rukh Khan                   Pathaan  2023                  1050   \n",
       "1          Salman Khan           Tiger Zinda Hai  2017                   565   \n",
       "2            Amir Khan                    Dangal  2016                  2024   \n",
       "3        Ranbir Kapoor                Brahmastra  2022                   431   \n",
       "4        Ranveer Singh                 Padmaavat  2018                   585   \n",
       "5   Ayushmann Khurrana                 Andhadhun  2018                   111   \n",
       "6         Rajkumar Rao                     Stree  2018                   180   \n",
       "7       Hrithik Roshan                       War  2019                   475   \n",
       "8         Akshay Kumar                Good Newwz  2019                   318   \n",
       "9        Kartik Aaryan           Bhool Bhulaiyaa  2022                   266   \n",
       "10        Varun Dhawan    Badrinath Ki Dulhanyia  2017                   201   \n",
       "11      Vicky Kaushal   Uri: The surgical strike  2019                   342   \n",
       "\n",
       "    IMDb  \n",
       "0    7.2  \n",
       "1    6.0  \n",
       "2    8.4  \n",
       "3    5.6  \n",
       "4    7.0  \n",
       "5    8.3  \n",
       "6    7.5  \n",
       "7    6.5  \n",
       "8    7.0  \n",
       "9    5.9  \n",
       "10   6.1  \n",
       "11   8.2  "
      ]
     },
     "execution_count": 66,
     "metadata": {},
     "output_type": "execute_result"
    }
   ],
   "source": [
    "df\n"
   ]
  },
  {
   "cell_type": "code",
   "execution_count": 67,
   "id": "ad601b63-d7a3-4a12-b378-43d56bfb922d",
   "metadata": {},
   "outputs": [
    {
     "data": {
      "text/plain": [
       "0         Shah Rukh Khan\n",
       "1            Salman Khan\n",
       "2              Amir Khan\n",
       "3          Ranbir Kapoor\n",
       "4          Ranveer Singh\n",
       "5     Ayushmann Khurrana\n",
       "6           Rajkumar Rao\n",
       "7         Hrithik Roshan\n",
       "8           Akshay Kumar\n",
       "9          Kartik Aaryan\n",
       "10          Varun Dhawan\n",
       "11        Vicky Kaushal \n",
       "Name: Actor, dtype: object"
      ]
     },
     "execution_count": 67,
     "metadata": {},
     "output_type": "execute_result"
    }
   ],
   "source": [
    "df['Actor']"
   ]
  },
  {
   "cell_type": "code",
   "execution_count": 68,
   "id": "af5887b4-3412-4351-acbf-de64488133e5",
   "metadata": {},
   "outputs": [
    {
     "data": {
      "text/html": [
       "<div>\n",
       "<style scoped>\n",
       "    .dataframe tbody tr th:only-of-type {\n",
       "        vertical-align: middle;\n",
       "    }\n",
       "\n",
       "    .dataframe tbody tr th {\n",
       "        vertical-align: top;\n",
       "    }\n",
       "\n",
       "    .dataframe thead th {\n",
       "        text-align: right;\n",
       "    }\n",
       "</style>\n",
       "<table border=\"1\" class=\"dataframe\">\n",
       "  <thead>\n",
       "    <tr style=\"text-align: right;\">\n",
       "      <th></th>\n",
       "      <th>Actor</th>\n",
       "      <th>IMDb</th>\n",
       "    </tr>\n",
       "  </thead>\n",
       "  <tbody>\n",
       "    <tr>\n",
       "      <th>0</th>\n",
       "      <td>Shah Rukh Khan</td>\n",
       "      <td>7.2</td>\n",
       "    </tr>\n",
       "    <tr>\n",
       "      <th>1</th>\n",
       "      <td>Salman Khan</td>\n",
       "      <td>6.0</td>\n",
       "    </tr>\n",
       "    <tr>\n",
       "      <th>2</th>\n",
       "      <td>Amir Khan</td>\n",
       "      <td>8.4</td>\n",
       "    </tr>\n",
       "    <tr>\n",
       "      <th>3</th>\n",
       "      <td>Ranbir Kapoor</td>\n",
       "      <td>5.6</td>\n",
       "    </tr>\n",
       "    <tr>\n",
       "      <th>4</th>\n",
       "      <td>Ranveer Singh</td>\n",
       "      <td>7.0</td>\n",
       "    </tr>\n",
       "    <tr>\n",
       "      <th>5</th>\n",
       "      <td>Ayushmann Khurrana</td>\n",
       "      <td>8.3</td>\n",
       "    </tr>\n",
       "    <tr>\n",
       "      <th>6</th>\n",
       "      <td>Rajkumar Rao</td>\n",
       "      <td>7.5</td>\n",
       "    </tr>\n",
       "    <tr>\n",
       "      <th>7</th>\n",
       "      <td>Hrithik Roshan</td>\n",
       "      <td>6.5</td>\n",
       "    </tr>\n",
       "    <tr>\n",
       "      <th>8</th>\n",
       "      <td>Akshay Kumar</td>\n",
       "      <td>7.0</td>\n",
       "    </tr>\n",
       "    <tr>\n",
       "      <th>9</th>\n",
       "      <td>Kartik Aaryan</td>\n",
       "      <td>5.9</td>\n",
       "    </tr>\n",
       "    <tr>\n",
       "      <th>10</th>\n",
       "      <td>Varun Dhawan</td>\n",
       "      <td>6.1</td>\n",
       "    </tr>\n",
       "    <tr>\n",
       "      <th>11</th>\n",
       "      <td>Vicky Kaushal</td>\n",
       "      <td>8.2</td>\n",
       "    </tr>\n",
       "  </tbody>\n",
       "</table>\n",
       "</div>"
      ],
      "text/plain": [
       "                 Actor  IMDb\n",
       "0       Shah Rukh Khan   7.2\n",
       "1          Salman Khan   6.0\n",
       "2            Amir Khan   8.4\n",
       "3        Ranbir Kapoor   5.6\n",
       "4        Ranveer Singh   7.0\n",
       "5   Ayushmann Khurrana   8.3\n",
       "6         Rajkumar Rao   7.5\n",
       "7       Hrithik Roshan   6.5\n",
       "8         Akshay Kumar   7.0\n",
       "9        Kartik Aaryan   5.9\n",
       "10        Varun Dhawan   6.1\n",
       "11      Vicky Kaushal    8.2"
      ]
     },
     "execution_count": 68,
     "metadata": {},
     "output_type": "execute_result"
    }
   ],
   "source": [
    "df[['Actor','IMDb']]"
   ]
  },
  {
   "cell_type": "markdown",
   "id": "c8ed6cf7-d635-4460-843e-b9a88097bc42",
   "metadata": {},
   "source": [
    "Selecting Rows by index"
   ]
  },
  {
   "cell_type": "code",
   "execution_count": 69,
   "id": "46b1060c-46ab-4fe2-af44-b6efe4f5ff3e",
   "metadata": {},
   "outputs": [
    {
     "data": {
      "text/plain": [
       "Actor                       Salman Khan\n",
       "Film                    Tiger Zinda Hai\n",
       "Year                               2017\n",
       "BoxOffice(INR Crore)                565\n",
       "IMDb                                6.0\n",
       "Name: 1, dtype: object"
      ]
     },
     "execution_count": 69,
     "metadata": {},
     "output_type": "execute_result"
    }
   ],
   "source": [
    "df.loc[1] # Like if we want to detailof one by one then we can use loc"
   ]
  },
  {
   "cell_type": "code",
   "execution_count": 70,
   "id": "cf41f4d6-2dee-4dc9-b263-d88450ac5bd6",
   "metadata": {},
   "outputs": [
    {
     "data": {
      "text/plain": [
       "Actor                       Salman Khan\n",
       "Film                    Tiger Zinda Hai\n",
       "Year                               2017\n",
       "BoxOffice(INR Crore)                565\n",
       "IMDb                                6.0\n",
       "Name: 1, dtype: object"
      ]
     },
     "execution_count": 70,
     "metadata": {},
     "output_type": "execute_result"
    }
   ],
   "source": [
    "df.iloc[1]  # if there is no indexing based 1 or 2 if even it is based on a b it will return the same index but compare to loc it will only work with label\n"
   ]
  },
  {
   "cell_type": "markdown",
   "id": "7c628642-15da-450b-a27b-d02dda8467b2",
   "metadata": {},
   "source": [
    "Select Specific raws and columns"
   ]
  },
  {
   "cell_type": "code",
   "execution_count": 71,
   "id": "a3f200f2-1327-4044-a67f-9a33e86726c3",
   "metadata": {},
   "outputs": [
    {
     "data": {
      "text/plain": [
       "np.int64(2019)"
      ]
     },
     "execution_count": 71,
     "metadata": {},
     "output_type": "execute_result"
    }
   ],
   "source": [
    "df.iloc[7,2]"
   ]
  },
  {
   "cell_type": "code",
   "execution_count": 72,
   "id": "76a726fc-566c-4515-827a-88348eeee999",
   "metadata": {},
   "outputs": [
    {
     "data": {
      "text/plain": [
       "'Hrithik Roshan'"
      ]
     },
     "execution_count": 72,
     "metadata": {},
     "output_type": "execute_result"
    }
   ],
   "source": [
    "df.loc[7,\"Actor\"]"
   ]
  },
  {
   "cell_type": "code",
   "execution_count": 73,
   "id": "55474a4e-7246-48dc-9f02-7e79984aa914",
   "metadata": {},
   "outputs": [
    {
     "data": {
      "text/plain": [
       "np.int64(475)"
      ]
     },
     "execution_count": 73,
     "metadata": {},
     "output_type": "execute_result"
    }
   ],
   "source": [
    "df.iloc[7,3]"
   ]
  },
  {
   "cell_type": "code",
   "execution_count": 74,
   "id": "f5662b69-2585-4284-96e0-7ab397c70f62",
   "metadata": {},
   "outputs": [
    {
     "data": {
      "text/html": [
       "<div>\n",
       "<style scoped>\n",
       "    .dataframe tbody tr th:only-of-type {\n",
       "        vertical-align: middle;\n",
       "    }\n",
       "\n",
       "    .dataframe tbody tr th {\n",
       "        vertical-align: top;\n",
       "    }\n",
       "\n",
       "    .dataframe thead th {\n",
       "        text-align: right;\n",
       "    }\n",
       "</style>\n",
       "<table border=\"1\" class=\"dataframe\">\n",
       "  <thead>\n",
       "    <tr style=\"text-align: right;\">\n",
       "      <th></th>\n",
       "      <th>IMDb</th>\n",
       "      <th>Actor</th>\n",
       "      <th>Film</th>\n",
       "    </tr>\n",
       "  </thead>\n",
       "  <tbody>\n",
       "    <tr>\n",
       "      <th>0</th>\n",
       "      <td>7.2</td>\n",
       "      <td>Shah Rukh Khan</td>\n",
       "      <td>Pathaan</td>\n",
       "    </tr>\n",
       "    <tr>\n",
       "      <th>1</th>\n",
       "      <td>6.0</td>\n",
       "      <td>Salman Khan</td>\n",
       "      <td>Tiger Zinda Hai</td>\n",
       "    </tr>\n",
       "    <tr>\n",
       "      <th>2</th>\n",
       "      <td>8.4</td>\n",
       "      <td>Amir Khan</td>\n",
       "      <td>Dangal</td>\n",
       "    </tr>\n",
       "  </tbody>\n",
       "</table>\n",
       "</div>"
      ],
      "text/plain": [
       "   IMDb           Actor             Film\n",
       "0   7.2  Shah Rukh Khan          Pathaan\n",
       "1   6.0     Salman Khan  Tiger Zinda Hai\n",
       "2   8.4       Amir Khan           Dangal"
      ]
     },
     "execution_count": 74,
     "metadata": {},
     "output_type": "execute_result"
    }
   ],
   "source": [
    "df.loc[0:2,[\"IMDb\",\"Actor\",\"Film\"]]"
   ]
  },
  {
   "cell_type": "code",
   "execution_count": 75,
   "id": "b22bf4d6-98c9-41ff-a8a2-0bdb65ed453a",
   "metadata": {},
   "outputs": [
    {
     "data": {
      "text/html": [
       "<div>\n",
       "<style scoped>\n",
       "    .dataframe tbody tr th:only-of-type {\n",
       "        vertical-align: middle;\n",
       "    }\n",
       "\n",
       "    .dataframe tbody tr th {\n",
       "        vertical-align: top;\n",
       "    }\n",
       "\n",
       "    .dataframe thead th {\n",
       "        text-align: right;\n",
       "    }\n",
       "</style>\n",
       "<table border=\"1\" class=\"dataframe\">\n",
       "  <thead>\n",
       "    <tr style=\"text-align: right;\">\n",
       "      <th></th>\n",
       "      <th>Actor</th>\n",
       "      <th>Film</th>\n",
       "    </tr>\n",
       "  </thead>\n",
       "  <tbody>\n",
       "    <tr>\n",
       "      <th>0</th>\n",
       "      <td>Shah Rukh Khan</td>\n",
       "      <td>Pathaan</td>\n",
       "    </tr>\n",
       "    <tr>\n",
       "      <th>1</th>\n",
       "      <td>Salman Khan</td>\n",
       "      <td>Tiger Zinda Hai</td>\n",
       "    </tr>\n",
       "  </tbody>\n",
       "</table>\n",
       "</div>"
      ],
      "text/plain": [
       "            Actor             Film\n",
       "0  Shah Rukh Khan          Pathaan\n",
       "1     Salman Khan  Tiger Zinda Hai"
      ]
     },
     "execution_count": 75,
     "metadata": {},
     "output_type": "execute_result"
    }
   ],
   "source": [
    "df.iloc[0:2,0:2]  # look if i talk "
   ]
  },
  {
   "cell_type": "code",
   "execution_count": 76,
   "id": "f2291bea-f300-444b-9c76-733f97401906",
   "metadata": {},
   "outputs": [
    {
     "data": {
      "text/plain": [
       "'Shah Rukh Khan'"
      ]
     },
     "execution_count": 76,
     "metadata": {},
     "output_type": "execute_result"
    }
   ],
   "source": [
    "df.at[0,\"Actor\"]"
   ]
  },
  {
   "cell_type": "code",
   "execution_count": 77,
   "id": "2cdeb0ea-5e74-4823-a320-4b767d398bcb",
   "metadata": {},
   "outputs": [
    {
     "data": {
      "text/plain": [
       "'Shah Rukh Khan'"
      ]
     },
     "execution_count": 77,
     "metadata": {},
     "output_type": "execute_result"
    }
   ],
   "source": [
    "df.iat[0,0]"
   ]
  },
  {
   "cell_type": "code",
   "execution_count": 78,
   "id": "666d49b7-5c81-48c1-b916-63377fb62226",
   "metadata": {},
   "outputs": [
    {
     "data": {
      "text/plain": [
       "np.int64(2017)"
      ]
     },
     "execution_count": 78,
     "metadata": {},
     "output_type": "execute_result"
    }
   ],
   "source": [
    "df.iat[1,2]"
   ]
  },
  {
   "cell_type": "code",
   "execution_count": 79,
   "id": "9f7663b6-8a3c-4a38-a12c-a2f55c62b4e0",
   "metadata": {},
   "outputs": [
    {
     "data": {
      "text/html": [
       "<div>\n",
       "<style scoped>\n",
       "    .dataframe tbody tr th:only-of-type {\n",
       "        vertical-align: middle;\n",
       "    }\n",
       "\n",
       "    .dataframe tbody tr th {\n",
       "        vertical-align: top;\n",
       "    }\n",
       "\n",
       "    .dataframe thead th {\n",
       "        text-align: right;\n",
       "    }\n",
       "</style>\n",
       "<table border=\"1\" class=\"dataframe\">\n",
       "  <thead>\n",
       "    <tr style=\"text-align: right;\">\n",
       "      <th></th>\n",
       "      <th>Actor</th>\n",
       "      <th>Film</th>\n",
       "      <th>Year</th>\n",
       "      <th>BoxOffice(INR Crore)</th>\n",
       "      <th>IMDb</th>\n",
       "    </tr>\n",
       "  </thead>\n",
       "  <tbody>\n",
       "    <tr>\n",
       "      <th>0</th>\n",
       "      <td>Shah Rukh Khan</td>\n",
       "      <td>Pathaan</td>\n",
       "      <td>2023</td>\n",
       "      <td>1050</td>\n",
       "      <td>7.2</td>\n",
       "    </tr>\n",
       "    <tr>\n",
       "      <th>2</th>\n",
       "      <td>Amir Khan</td>\n",
       "      <td>Dangal</td>\n",
       "      <td>2016</td>\n",
       "      <td>2024</td>\n",
       "      <td>8.4</td>\n",
       "    </tr>\n",
       "    <tr>\n",
       "      <th>4</th>\n",
       "      <td>Ranveer Singh</td>\n",
       "      <td>Padmaavat</td>\n",
       "      <td>2018</td>\n",
       "      <td>585</td>\n",
       "      <td>7.0</td>\n",
       "    </tr>\n",
       "    <tr>\n",
       "      <th>5</th>\n",
       "      <td>Ayushmann Khurrana</td>\n",
       "      <td>Andhadhun</td>\n",
       "      <td>2018</td>\n",
       "      <td>111</td>\n",
       "      <td>8.3</td>\n",
       "    </tr>\n",
       "    <tr>\n",
       "      <th>6</th>\n",
       "      <td>Rajkumar Rao</td>\n",
       "      <td>Stree</td>\n",
       "      <td>2018</td>\n",
       "      <td>180</td>\n",
       "      <td>7.5</td>\n",
       "    </tr>\n",
       "    <tr>\n",
       "      <th>7</th>\n",
       "      <td>Hrithik Roshan</td>\n",
       "      <td>War</td>\n",
       "      <td>2019</td>\n",
       "      <td>475</td>\n",
       "      <td>6.5</td>\n",
       "    </tr>\n",
       "    <tr>\n",
       "      <th>8</th>\n",
       "      <td>Akshay Kumar</td>\n",
       "      <td>Good Newwz</td>\n",
       "      <td>2019</td>\n",
       "      <td>318</td>\n",
       "      <td>7.0</td>\n",
       "    </tr>\n",
       "    <tr>\n",
       "      <th>10</th>\n",
       "      <td>Varun Dhawan</td>\n",
       "      <td>Badrinath Ki Dulhanyia</td>\n",
       "      <td>2017</td>\n",
       "      <td>201</td>\n",
       "      <td>6.1</td>\n",
       "    </tr>\n",
       "    <tr>\n",
       "      <th>11</th>\n",
       "      <td>Vicky Kaushal</td>\n",
       "      <td>Uri: The surgical strike</td>\n",
       "      <td>2019</td>\n",
       "      <td>342</td>\n",
       "      <td>8.2</td>\n",
       "    </tr>\n",
       "  </tbody>\n",
       "</table>\n",
       "</div>"
      ],
      "text/plain": [
       "                 Actor                      Film  Year  BoxOffice(INR Crore)  \\\n",
       "0       Shah Rukh Khan                   Pathaan  2023                  1050   \n",
       "2            Amir Khan                    Dangal  2016                  2024   \n",
       "4        Ranveer Singh                 Padmaavat  2018                   585   \n",
       "5   Ayushmann Khurrana                 Andhadhun  2018                   111   \n",
       "6         Rajkumar Rao                     Stree  2018                   180   \n",
       "7       Hrithik Roshan                       War  2019                   475   \n",
       "8         Akshay Kumar                Good Newwz  2019                   318   \n",
       "10        Varun Dhawan    Badrinath Ki Dulhanyia  2017                   201   \n",
       "11      Vicky Kaushal   Uri: The surgical strike  2019                   342   \n",
       "\n",
       "    IMDb  \n",
       "0    7.2  \n",
       "2    8.4  \n",
       "4    7.0  \n",
       "5    8.3  \n",
       "6    7.5  \n",
       "7    6.5  \n",
       "8    7.0  \n",
       "10   6.1  \n",
       "11   8.2  "
      ]
     },
     "execution_count": 79,
     "metadata": {},
     "output_type": "execute_result"
    }
   ],
   "source": [
    "df[df[\"IMDb\"] > 6]"
   ]
  },
  {
   "cell_type": "code",
   "execution_count": 80,
   "id": "ba069591-c85d-4c7a-a798-7fc4c995633c",
   "metadata": {},
   "outputs": [
    {
     "data": {
      "text/html": [
       "<div>\n",
       "<style scoped>\n",
       "    .dataframe tbody tr th:only-of-type {\n",
       "        vertical-align: middle;\n",
       "    }\n",
       "\n",
       "    .dataframe tbody tr th {\n",
       "        vertical-align: top;\n",
       "    }\n",
       "\n",
       "    .dataframe thead th {\n",
       "        text-align: right;\n",
       "    }\n",
       "</style>\n",
       "<table border=\"1\" class=\"dataframe\">\n",
       "  <thead>\n",
       "    <tr style=\"text-align: right;\">\n",
       "      <th></th>\n",
       "      <th>Actor</th>\n",
       "      <th>Film</th>\n",
       "      <th>Year</th>\n",
       "      <th>BoxOffice(INR Crore)</th>\n",
       "      <th>IMDb</th>\n",
       "    </tr>\n",
       "  </thead>\n",
       "  <tbody>\n",
       "    <tr>\n",
       "      <th>0</th>\n",
       "      <td>Shah Rukh Khan</td>\n",
       "      <td>Pathaan</td>\n",
       "      <td>2023</td>\n",
       "      <td>1050</td>\n",
       "      <td>7.2</td>\n",
       "    </tr>\n",
       "  </tbody>\n",
       "</table>\n",
       "</div>"
      ],
      "text/plain": [
       "            Actor     Film  Year  BoxOffice(INR Crore)  IMDb\n",
       "0  Shah Rukh Khan  Pathaan  2023                  1050   7.2"
      ]
     },
     "execution_count": 80,
     "metadata": {},
     "output_type": "execute_result"
    }
   ],
   "source": [
    "df[(df[\"IMDb\"]>6) & (df[\"Year\"]>2019)]"
   ]
  },
  {
   "cell_type": "code",
   "execution_count": 81,
   "id": "7a39ca33-2108-488c-8e56-ed0c5d932cbc",
   "metadata": {},
   "outputs": [
    {
     "data": {
      "text/html": [
       "<div>\n",
       "<style scoped>\n",
       "    .dataframe tbody tr th:only-of-type {\n",
       "        vertical-align: middle;\n",
       "    }\n",
       "\n",
       "    .dataframe tbody tr th {\n",
       "        vertical-align: top;\n",
       "    }\n",
       "\n",
       "    .dataframe thead th {\n",
       "        text-align: right;\n",
       "    }\n",
       "</style>\n",
       "<table border=\"1\" class=\"dataframe\">\n",
       "  <thead>\n",
       "    <tr style=\"text-align: right;\">\n",
       "      <th></th>\n",
       "      <th>Actor</th>\n",
       "      <th>Film</th>\n",
       "      <th>Year</th>\n",
       "      <th>BoxOffice(INR Crore)</th>\n",
       "      <th>IMDb</th>\n",
       "    </tr>\n",
       "  </thead>\n",
       "  <tbody>\n",
       "    <tr>\n",
       "      <th>0</th>\n",
       "      <td>Shah Rukh Khan</td>\n",
       "      <td>Pathaan</td>\n",
       "      <td>2023</td>\n",
       "      <td>1050</td>\n",
       "      <td>7.2</td>\n",
       "    </tr>\n",
       "    <tr>\n",
       "      <th>2</th>\n",
       "      <td>Amir Khan</td>\n",
       "      <td>Dangal</td>\n",
       "      <td>2016</td>\n",
       "      <td>2024</td>\n",
       "      <td>8.4</td>\n",
       "    </tr>\n",
       "    <tr>\n",
       "      <th>3</th>\n",
       "      <td>Ranbir Kapoor</td>\n",
       "      <td>Brahmastra</td>\n",
       "      <td>2022</td>\n",
       "      <td>431</td>\n",
       "      <td>5.6</td>\n",
       "    </tr>\n",
       "    <tr>\n",
       "      <th>4</th>\n",
       "      <td>Ranveer Singh</td>\n",
       "      <td>Padmaavat</td>\n",
       "      <td>2018</td>\n",
       "      <td>585</td>\n",
       "      <td>7.0</td>\n",
       "    </tr>\n",
       "    <tr>\n",
       "      <th>5</th>\n",
       "      <td>Ayushmann Khurrana</td>\n",
       "      <td>Andhadhun</td>\n",
       "      <td>2018</td>\n",
       "      <td>111</td>\n",
       "      <td>8.3</td>\n",
       "    </tr>\n",
       "    <tr>\n",
       "      <th>6</th>\n",
       "      <td>Rajkumar Rao</td>\n",
       "      <td>Stree</td>\n",
       "      <td>2018</td>\n",
       "      <td>180</td>\n",
       "      <td>7.5</td>\n",
       "    </tr>\n",
       "    <tr>\n",
       "      <th>7</th>\n",
       "      <td>Hrithik Roshan</td>\n",
       "      <td>War</td>\n",
       "      <td>2019</td>\n",
       "      <td>475</td>\n",
       "      <td>6.5</td>\n",
       "    </tr>\n",
       "    <tr>\n",
       "      <th>8</th>\n",
       "      <td>Akshay Kumar</td>\n",
       "      <td>Good Newwz</td>\n",
       "      <td>2019</td>\n",
       "      <td>318</td>\n",
       "      <td>7.0</td>\n",
       "    </tr>\n",
       "    <tr>\n",
       "      <th>9</th>\n",
       "      <td>Kartik Aaryan</td>\n",
       "      <td>Bhool Bhulaiyaa</td>\n",
       "      <td>2022</td>\n",
       "      <td>266</td>\n",
       "      <td>5.9</td>\n",
       "    </tr>\n",
       "    <tr>\n",
       "      <th>10</th>\n",
       "      <td>Varun Dhawan</td>\n",
       "      <td>Badrinath Ki Dulhanyia</td>\n",
       "      <td>2017</td>\n",
       "      <td>201</td>\n",
       "      <td>6.1</td>\n",
       "    </tr>\n",
       "    <tr>\n",
       "      <th>11</th>\n",
       "      <td>Vicky Kaushal</td>\n",
       "      <td>Uri: The surgical strike</td>\n",
       "      <td>2019</td>\n",
       "      <td>342</td>\n",
       "      <td>8.2</td>\n",
       "    </tr>\n",
       "  </tbody>\n",
       "</table>\n",
       "</div>"
      ],
      "text/plain": [
       "                 Actor                      Film  Year  BoxOffice(INR Crore)  \\\n",
       "0       Shah Rukh Khan                   Pathaan  2023                  1050   \n",
       "2            Amir Khan                    Dangal  2016                  2024   \n",
       "3        Ranbir Kapoor                Brahmastra  2022                   431   \n",
       "4        Ranveer Singh                 Padmaavat  2018                   585   \n",
       "5   Ayushmann Khurrana                 Andhadhun  2018                   111   \n",
       "6         Rajkumar Rao                     Stree  2018                   180   \n",
       "7       Hrithik Roshan                       War  2019                   475   \n",
       "8         Akshay Kumar                Good Newwz  2019                   318   \n",
       "9        Kartik Aaryan           Bhool Bhulaiyaa  2022                   266   \n",
       "10        Varun Dhawan    Badrinath Ki Dulhanyia  2017                   201   \n",
       "11      Vicky Kaushal   Uri: The surgical strike  2019                   342   \n",
       "\n",
       "    IMDb  \n",
       "0    7.2  \n",
       "2    8.4  \n",
       "3    5.6  \n",
       "4    7.0  \n",
       "5    8.3  \n",
       "6    7.5  \n",
       "7    6.5  \n",
       "8    7.0  \n",
       "9    5.9  \n",
       "10   6.1  \n",
       "11   8.2  "
      ]
     },
     "execution_count": 81,
     "metadata": {},
     "output_type": "execute_result"
    }
   ],
   "source": [
    "df[(df[\"IMDb\"]>6) | (df[\"Year\"]>2018)]"
   ]
  },
  {
   "cell_type": "markdown",
   "id": "080514b4-401a-4a11-a2cf-c3f551cd50fa",
   "metadata": {},
   "source": [
    "# Querying with .query()\n",
    ". look if you think that using single condition or multiple condition can be burden then to handle that we can use.query() function\n",
    "\n"
   ]
  },
  {
   "cell_type": "code",
   "execution_count": 82,
   "id": "af0fd660-5478-4a1e-9008-2545a47691a1",
   "metadata": {},
   "outputs": [
    {
     "data": {
      "text/html": [
       "<div>\n",
       "<style scoped>\n",
       "    .dataframe tbody tr th:only-of-type {\n",
       "        vertical-align: middle;\n",
       "    }\n",
       "\n",
       "    .dataframe tbody tr th {\n",
       "        vertical-align: top;\n",
       "    }\n",
       "\n",
       "    .dataframe thead th {\n",
       "        text-align: right;\n",
       "    }\n",
       "</style>\n",
       "<table border=\"1\" class=\"dataframe\">\n",
       "  <thead>\n",
       "    <tr style=\"text-align: right;\">\n",
       "      <th></th>\n",
       "      <th>Actor</th>\n",
       "      <th>Film</th>\n",
       "      <th>Year</th>\n",
       "      <th>BoxOffice(INR Crore)</th>\n",
       "      <th>IMDb</th>\n",
       "    </tr>\n",
       "  </thead>\n",
       "  <tbody>\n",
       "    <tr>\n",
       "      <th>0</th>\n",
       "      <td>Shah Rukh Khan</td>\n",
       "      <td>Pathaan</td>\n",
       "      <td>2023</td>\n",
       "      <td>1050</td>\n",
       "      <td>7.2</td>\n",
       "    </tr>\n",
       "  </tbody>\n",
       "</table>\n",
       "</div>"
      ],
      "text/plain": [
       "            Actor     Film  Year  BoxOffice(INR Crore)  IMDb\n",
       "0  Shah Rukh Khan  Pathaan  2023                  1050   7.2"
      ]
     },
     "execution_count": 82,
     "metadata": {},
     "output_type": "execute_result"
    }
   ],
   "source": [
    "df.query(\"Year > 2019 and IMDb > 6\")"
   ]
  },
  {
   "cell_type": "code",
   "execution_count": 83,
   "id": "7fc38fe5-ab65-44b4-86d2-b7e81e7e8cee",
   "metadata": {},
   "outputs": [
    {
     "data": {
      "text/html": [
       "<div>\n",
       "<style scoped>\n",
       "    .dataframe tbody tr th:only-of-type {\n",
       "        vertical-align: middle;\n",
       "    }\n",
       "\n",
       "    .dataframe tbody tr th {\n",
       "        vertical-align: top;\n",
       "    }\n",
       "\n",
       "    .dataframe thead th {\n",
       "        text-align: right;\n",
       "    }\n",
       "</style>\n",
       "<table border=\"1\" class=\"dataframe\">\n",
       "  <thead>\n",
       "    <tr style=\"text-align: right;\">\n",
       "      <th></th>\n",
       "      <th>Actor</th>\n",
       "      <th>Film</th>\n",
       "      <th>Year</th>\n",
       "      <th>BoxOffice(INR Crore)</th>\n",
       "      <th>IMDb</th>\n",
       "    </tr>\n",
       "  </thead>\n",
       "  <tbody>\n",
       "    <tr>\n",
       "      <th>0</th>\n",
       "      <td>Shah Rukh Khan</td>\n",
       "      <td>Pathaan</td>\n",
       "      <td>2023</td>\n",
       "      <td>1050</td>\n",
       "      <td>7.2</td>\n",
       "    </tr>\n",
       "    <tr>\n",
       "      <th>2</th>\n",
       "      <td>Amir Khan</td>\n",
       "      <td>Dangal</td>\n",
       "      <td>2016</td>\n",
       "      <td>2024</td>\n",
       "      <td>8.4</td>\n",
       "    </tr>\n",
       "    <tr>\n",
       "      <th>3</th>\n",
       "      <td>Ranbir Kapoor</td>\n",
       "      <td>Brahmastra</td>\n",
       "      <td>2022</td>\n",
       "      <td>431</td>\n",
       "      <td>5.6</td>\n",
       "    </tr>\n",
       "    <tr>\n",
       "      <th>4</th>\n",
       "      <td>Ranveer Singh</td>\n",
       "      <td>Padmaavat</td>\n",
       "      <td>2018</td>\n",
       "      <td>585</td>\n",
       "      <td>7.0</td>\n",
       "    </tr>\n",
       "    <tr>\n",
       "      <th>5</th>\n",
       "      <td>Ayushmann Khurrana</td>\n",
       "      <td>Andhadhun</td>\n",
       "      <td>2018</td>\n",
       "      <td>111</td>\n",
       "      <td>8.3</td>\n",
       "    </tr>\n",
       "    <tr>\n",
       "      <th>6</th>\n",
       "      <td>Rajkumar Rao</td>\n",
       "      <td>Stree</td>\n",
       "      <td>2018</td>\n",
       "      <td>180</td>\n",
       "      <td>7.5</td>\n",
       "    </tr>\n",
       "    <tr>\n",
       "      <th>7</th>\n",
       "      <td>Hrithik Roshan</td>\n",
       "      <td>War</td>\n",
       "      <td>2019</td>\n",
       "      <td>475</td>\n",
       "      <td>6.5</td>\n",
       "    </tr>\n",
       "    <tr>\n",
       "      <th>8</th>\n",
       "      <td>Akshay Kumar</td>\n",
       "      <td>Good Newwz</td>\n",
       "      <td>2019</td>\n",
       "      <td>318</td>\n",
       "      <td>7.0</td>\n",
       "    </tr>\n",
       "    <tr>\n",
       "      <th>9</th>\n",
       "      <td>Kartik Aaryan</td>\n",
       "      <td>Bhool Bhulaiyaa</td>\n",
       "      <td>2022</td>\n",
       "      <td>266</td>\n",
       "      <td>5.9</td>\n",
       "    </tr>\n",
       "    <tr>\n",
       "      <th>10</th>\n",
       "      <td>Varun Dhawan</td>\n",
       "      <td>Badrinath Ki Dulhanyia</td>\n",
       "      <td>2017</td>\n",
       "      <td>201</td>\n",
       "      <td>6.1</td>\n",
       "    </tr>\n",
       "    <tr>\n",
       "      <th>11</th>\n",
       "      <td>Vicky Kaushal</td>\n",
       "      <td>Uri: The surgical strike</td>\n",
       "      <td>2019</td>\n",
       "      <td>342</td>\n",
       "      <td>8.2</td>\n",
       "    </tr>\n",
       "  </tbody>\n",
       "</table>\n",
       "</div>"
      ],
      "text/plain": [
       "                 Actor                      Film  Year  BoxOffice(INR Crore)  \\\n",
       "0       Shah Rukh Khan                   Pathaan  2023                  1050   \n",
       "2            Amir Khan                    Dangal  2016                  2024   \n",
       "3        Ranbir Kapoor                Brahmastra  2022                   431   \n",
       "4        Ranveer Singh                 Padmaavat  2018                   585   \n",
       "5   Ayushmann Khurrana                 Andhadhun  2018                   111   \n",
       "6         Rajkumar Rao                     Stree  2018                   180   \n",
       "7       Hrithik Roshan                       War  2019                   475   \n",
       "8         Akshay Kumar                Good Newwz  2019                   318   \n",
       "9        Kartik Aaryan           Bhool Bhulaiyaa  2022                   266   \n",
       "10        Varun Dhawan    Badrinath Ki Dulhanyia  2017                   201   \n",
       "11      Vicky Kaushal   Uri: The surgical strike  2019                   342   \n",
       "\n",
       "    IMDb  \n",
       "0    7.2  \n",
       "2    8.4  \n",
       "3    5.6  \n",
       "4    7.0  \n",
       "5    8.3  \n",
       "6    7.5  \n",
       "7    6.5  \n",
       "8    7.0  \n",
       "9    5.9  \n",
       "10   6.1  \n",
       "11   8.2  "
      ]
     },
     "execution_count": 83,
     "metadata": {},
     "output_type": "execute_result"
    }
   ],
   "source": [
    "df.query(\"Year > 2019 or IMDb > 6\")"
   ]
  },
  {
   "cell_type": "markdown",
   "id": "86555847-58d6-4b29-97a7-892da0459a10",
   "metadata": {},
   "source": [
    "Column names become variable"
   ]
  },
  {
   "cell_type": "code",
   "execution_count": 84,
   "id": "799821a1-9773-41bb-a66c-cc64fc3f3d60",
   "metadata": {},
   "outputs": [
    {
     "data": {
      "text/html": [
       "<div>\n",
       "<style scoped>\n",
       "    .dataframe tbody tr th:only-of-type {\n",
       "        vertical-align: middle;\n",
       "    }\n",
       "\n",
       "    .dataframe tbody tr th {\n",
       "        vertical-align: top;\n",
       "    }\n",
       "\n",
       "    .dataframe thead th {\n",
       "        text-align: right;\n",
       "    }\n",
       "</style>\n",
       "<table border=\"1\" class=\"dataframe\">\n",
       "  <thead>\n",
       "    <tr style=\"text-align: right;\">\n",
       "      <th></th>\n",
       "      <th>Actor</th>\n",
       "      <th>Film</th>\n",
       "      <th>Year</th>\n",
       "      <th>BoxOffice(INR Crore)</th>\n",
       "      <th>IMDb</th>\n",
       "    </tr>\n",
       "  </thead>\n",
       "  <tbody>\n",
       "    <tr>\n",
       "      <th>0</th>\n",
       "      <td>Shah Rukh Khan</td>\n",
       "      <td>Pathaan</td>\n",
       "      <td>2023</td>\n",
       "      <td>1050</td>\n",
       "      <td>7.2</td>\n",
       "    </tr>\n",
       "  </tbody>\n",
       "</table>\n",
       "</div>"
      ],
      "text/plain": [
       "            Actor     Film  Year  BoxOffice(INR Crore)  IMDb\n",
       "0  Shah Rukh Khan  Pathaan  2023                  1050   7.2"
      ]
     },
     "execution_count": 84,
     "metadata": {},
     "output_type": "execute_result"
    }
   ],
   "source": [
    "df.query(\"IMDb > 7 and Year > 2019\")"
   ]
  },
  {
   "cell_type": "markdown",
   "id": "bb89bca7-c259-4897-99a9-0295ee3bda14",
   "metadata": {},
   "source": [
    "String value must be in quotes"
   ]
  },
  {
   "cell_type": "markdown",
   "id": "1396726c-3681-4e88-afd7-2eeeac809558",
   "metadata": {},
   "source": [
    ". Use single or double quotes around strings in the expression"
   ]
  },
  {
   "cell_type": "code",
   "execution_count": 85,
   "id": "7246c142-790d-4442-bfd6-e58fd4137ae9",
   "metadata": {},
   "outputs": [
    {
     "data": {
      "text/html": [
       "<div>\n",
       "<style scoped>\n",
       "    .dataframe tbody tr th:only-of-type {\n",
       "        vertical-align: middle;\n",
       "    }\n",
       "\n",
       "    .dataframe tbody tr th {\n",
       "        vertical-align: top;\n",
       "    }\n",
       "\n",
       "    .dataframe thead th {\n",
       "        text-align: right;\n",
       "    }\n",
       "</style>\n",
       "<table border=\"1\" class=\"dataframe\">\n",
       "  <thead>\n",
       "    <tr style=\"text-align: right;\">\n",
       "      <th></th>\n",
       "      <th>Actor</th>\n",
       "      <th>Film</th>\n",
       "      <th>Year</th>\n",
       "      <th>BoxOffice(INR Crore)</th>\n",
       "      <th>IMDb</th>\n",
       "    </tr>\n",
       "  </thead>\n",
       "  <tbody>\n",
       "    <tr>\n",
       "      <th>0</th>\n",
       "      <td>Shah Rukh Khan</td>\n",
       "      <td>Pathaan</td>\n",
       "      <td>2023</td>\n",
       "      <td>1050</td>\n",
       "      <td>7.2</td>\n",
       "    </tr>\n",
       "  </tbody>\n",
       "</table>\n",
       "</div>"
      ],
      "text/plain": [
       "            Actor     Film  Year  BoxOffice(INR Crore)  IMDb\n",
       "0  Shah Rukh Khan  Pathaan  2023                  1050   7.2"
      ]
     },
     "execution_count": 85,
     "metadata": {},
     "output_type": "execute_result"
    }
   ],
   "source": [
    "df.query(\"Actor == 'Shah Rukh Khan'\")"
   ]
  },
  {
   "cell_type": "markdown",
   "id": "b972c025-742e-49ca-b586-0cc3e69931bf",
   "metadata": {},
   "source": [
    "Use backtricks for column names with spaces or special characters"
   ]
  },
  {
   "cell_type": "markdown",
   "id": "feec5c27-c044-40ac-81c1-0c7b4625387b",
   "metadata": {},
   "source": [
    ". If a column name has spaces, use backticks(`):"
   ]
  },
  {
   "cell_type": "code",
   "execution_count": 86,
   "id": "3a182b03-3ab4-4320-a999-bab78df9413b",
   "metadata": {},
   "outputs": [
    {
     "data": {
      "text/html": [
       "<div>\n",
       "<style scoped>\n",
       "    .dataframe tbody tr th:only-of-type {\n",
       "        vertical-align: middle;\n",
       "    }\n",
       "\n",
       "    .dataframe tbody tr th {\n",
       "        vertical-align: top;\n",
       "    }\n",
       "\n",
       "    .dataframe thead th {\n",
       "        text-align: right;\n",
       "    }\n",
       "</style>\n",
       "<table border=\"1\" class=\"dataframe\">\n",
       "  <thead>\n",
       "    <tr style=\"text-align: right;\">\n",
       "      <th></th>\n",
       "      <th>Actor</th>\n",
       "      <th>Film</th>\n",
       "      <th>Year</th>\n",
       "      <th>BoxOffice(INR Crore)</th>\n",
       "      <th>IMDb</th>\n",
       "    </tr>\n",
       "  </thead>\n",
       "  <tbody>\n",
       "    <tr>\n",
       "      <th>2</th>\n",
       "      <td>Amir Khan</td>\n",
       "      <td>Dangal</td>\n",
       "      <td>2016</td>\n",
       "      <td>2024</td>\n",
       "      <td>8.4</td>\n",
       "    </tr>\n",
       "  </tbody>\n",
       "</table>\n",
       "</div>"
      ],
      "text/plain": [
       "       Actor    Film  Year  BoxOffice(INR Crore)  IMDb\n",
       "2  Amir Khan  Dangal  2016                  2024   8.4"
      ]
     },
     "execution_count": 86,
     "metadata": {},
     "output_type": "execute_result"
    }
   ],
   "source": [
    "df.query(\"Actor == 'Amir Khan'\")"
   ]
  },
  {
   "cell_type": "markdown",
   "id": "ecbfe34f-135f-4753-959b-1d1f043c35ee",
   "metadata": {},
   "source": [
    "Logical Operator "
   ]
  },
  {
   "cell_type": "markdown",
   "id": "dddf9c90-828a-4f55-9abd-a485d5554fcf",
   "metadata": {},
   "source": [
    ". Instead of using &, |, ~, - ==, !=, <, > , <=, >=, \n",
    ". Use this and, or, not"
   ]
  },
  {
   "cell_type": "code",
   "execution_count": 89,
   "id": "1eb4a535-a64a-4494-9c07-ef5272e91f7e",
   "metadata": {},
   "outputs": [
    {
     "data": {
      "text/html": [
       "<div>\n",
       "<style scoped>\n",
       "    .dataframe tbody tr th:only-of-type {\n",
       "        vertical-align: middle;\n",
       "    }\n",
       "\n",
       "    .dataframe tbody tr th {\n",
       "        vertical-align: top;\n",
       "    }\n",
       "\n",
       "    .dataframe thead th {\n",
       "        text-align: right;\n",
       "    }\n",
       "</style>\n",
       "<table border=\"1\" class=\"dataframe\">\n",
       "  <thead>\n",
       "    <tr style=\"text-align: right;\">\n",
       "      <th></th>\n",
       "      <th>Actor</th>\n",
       "      <th>Film</th>\n",
       "      <th>Year</th>\n",
       "      <th>BoxOffice(INR Crore)</th>\n",
       "      <th>IMDb</th>\n",
       "    </tr>\n",
       "  </thead>\n",
       "  <tbody>\n",
       "    <tr>\n",
       "      <th>0</th>\n",
       "      <td>Shah Rukh Khan</td>\n",
       "      <td>Pathaan</td>\n",
       "      <td>2023</td>\n",
       "      <td>1050</td>\n",
       "      <td>7.2</td>\n",
       "    </tr>\n",
       "    <tr>\n",
       "      <th>8</th>\n",
       "      <td>Akshay Kumar</td>\n",
       "      <td>Good Newwz</td>\n",
       "      <td>2019</td>\n",
       "      <td>318</td>\n",
       "      <td>7.0</td>\n",
       "    </tr>\n",
       "    <tr>\n",
       "      <th>11</th>\n",
       "      <td>Vicky Kaushal</td>\n",
       "      <td>Uri: The surgical strike</td>\n",
       "      <td>2019</td>\n",
       "      <td>342</td>\n",
       "      <td>8.2</td>\n",
       "    </tr>\n",
       "  </tbody>\n",
       "</table>\n",
       "</div>"
      ],
      "text/plain": [
       "             Actor                      Film  Year  BoxOffice(INR Crore)  IMDb\n",
       "0   Shah Rukh Khan                   Pathaan  2023                  1050   7.2\n",
       "8     Akshay Kumar                Good Newwz  2019                   318   7.0\n",
       "11  Vicky Kaushal   Uri: The surgical strike  2019                   342   8.2"
      ]
     },
     "execution_count": 89,
     "metadata": {},
     "output_type": "execute_result"
    }
   ],
   "source": [
    "df.query(\"Year > 2018 and IMDb >= 7\")"
   ]
  },
  {
   "cell_type": "markdown",
   "id": "08181cb5-1642-4115-b3b9-33081b104282",
   "metadata": {},
   "source": [
    "Chained comparisons"
   ]
  },
  {
   "cell_type": "code",
   "execution_count": 92,
   "id": "25415f6f-0a81-4375-aa26-cd1b762ed188",
   "metadata": {},
   "outputs": [
    {
     "data": {
      "text/html": [
       "<div>\n",
       "<style scoped>\n",
       "    .dataframe tbody tr th:only-of-type {\n",
       "        vertical-align: middle;\n",
       "    }\n",
       "\n",
       "    .dataframe tbody tr th {\n",
       "        vertical-align: top;\n",
       "    }\n",
       "\n",
       "    .dataframe thead th {\n",
       "        text-align: right;\n",
       "    }\n",
       "</style>\n",
       "<table border=\"1\" class=\"dataframe\">\n",
       "  <thead>\n",
       "    <tr style=\"text-align: right;\">\n",
       "      <th></th>\n",
       "      <th>Actor</th>\n",
       "      <th>Film</th>\n",
       "      <th>Year</th>\n",
       "      <th>BoxOffice(INR Crore)</th>\n",
       "      <th>IMDb</th>\n",
       "    </tr>\n",
       "  </thead>\n",
       "  <tbody>\n",
       "    <tr>\n",
       "      <th>0</th>\n",
       "      <td>Shah Rukh Khan</td>\n",
       "      <td>Pathaan</td>\n",
       "      <td>2023</td>\n",
       "      <td>1050</td>\n",
       "      <td>7.2</td>\n",
       "    </tr>\n",
       "    <tr>\n",
       "      <th>2</th>\n",
       "      <td>Amir Khan</td>\n",
       "      <td>Dangal</td>\n",
       "      <td>2016</td>\n",
       "      <td>2024</td>\n",
       "      <td>8.4</td>\n",
       "    </tr>\n",
       "    <tr>\n",
       "      <th>5</th>\n",
       "      <td>Ayushmann Khurrana</td>\n",
       "      <td>Andhadhun</td>\n",
       "      <td>2018</td>\n",
       "      <td>111</td>\n",
       "      <td>8.3</td>\n",
       "    </tr>\n",
       "    <tr>\n",
       "      <th>6</th>\n",
       "      <td>Rajkumar Rao</td>\n",
       "      <td>Stree</td>\n",
       "      <td>2018</td>\n",
       "      <td>180</td>\n",
       "      <td>7.5</td>\n",
       "    </tr>\n",
       "    <tr>\n",
       "      <th>11</th>\n",
       "      <td>Vicky Kaushal</td>\n",
       "      <td>Uri: The surgical strike</td>\n",
       "      <td>2019</td>\n",
       "      <td>342</td>\n",
       "      <td>8.2</td>\n",
       "    </tr>\n",
       "  </tbody>\n",
       "</table>\n",
       "</div>"
      ],
      "text/plain": [
       "                 Actor                      Film  Year  BoxOffice(INR Crore)  \\\n",
       "0       Shah Rukh Khan                   Pathaan  2023                  1050   \n",
       "2            Amir Khan                    Dangal  2016                  2024   \n",
       "5   Ayushmann Khurrana                 Andhadhun  2018                   111   \n",
       "6         Rajkumar Rao                     Stree  2018                   180   \n",
       "11      Vicky Kaushal   Uri: The surgical strike  2019                   342   \n",
       "\n",
       "    IMDb  \n",
       "0    7.2  \n",
       "2    8.4  \n",
       "5    8.3  \n",
       "6    7.5  \n",
       "11   8.2  "
      ]
     },
     "execution_count": 92,
     "metadata": {},
     "output_type": "execute_result"
    }
   ],
   "source": [
    "df.query(\"7 < IMDb < 9\")"
   ]
  },
  {
   "cell_type": "markdown",
   "id": "fdc64b32-e301-41fb-b613-e8e7c1ecfb80",
   "metadata": {},
   "source": [
    "Avoid using reserved keywords as column names "
   ]
  },
  {
   "cell_type": "markdown",
   "id": "a156cf0a-09fa-4dbd-990f-b277f253cb1f",
   "metadata": {},
   "source": [
    ". If you have a column named class, lambda, etc., you'll need to use backticks"
   ]
  },
  {
   "cell_type": "code",
   "execution_count": 96,
   "id": "0c7c9aba-77d1-4e89-bfb1-756ee1b8693f",
   "metadata": {},
   "outputs": [
    {
     "data": {
      "text/html": [
       "<div>\n",
       "<style scoped>\n",
       "    .dataframe tbody tr th:only-of-type {\n",
       "        vertical-align: middle;\n",
       "    }\n",
       "\n",
       "    .dataframe tbody tr th {\n",
       "        vertical-align: top;\n",
       "    }\n",
       "\n",
       "    .dataframe thead th {\n",
       "        text-align: right;\n",
       "    }\n",
       "</style>\n",
       "<table border=\"1\" class=\"dataframe\">\n",
       "  <thead>\n",
       "    <tr style=\"text-align: right;\">\n",
       "      <th></th>\n",
       "      <th>Actor</th>\n",
       "      <th>Film</th>\n",
       "      <th>Year</th>\n",
       "      <th>BoxOffice(INR Crore)</th>\n",
       "      <th>IMDb</th>\n",
       "    </tr>\n",
       "  </thead>\n",
       "  <tbody>\n",
       "    <tr>\n",
       "      <th>0</th>\n",
       "      <td>Shah Rukh Khan</td>\n",
       "      <td>Pathaan</td>\n",
       "      <td>2023</td>\n",
       "      <td>1050</td>\n",
       "      <td>7.2</td>\n",
       "    </tr>\n",
       "  </tbody>\n",
       "</table>\n",
       "</div>"
      ],
      "text/plain": [
       "            Actor     Film  Year  BoxOffice(INR Crore)  IMDb\n",
       "0  Shah Rukh Khan  Pathaan  2023                  1050   7.2"
      ]
     },
     "execution_count": 96,
     "metadata": {},
     "output_type": "execute_result"
    }
   ],
   "source": [
    "df.query(\"Actor == 'Shah Rukh Khan'\")"
   ]
  },
  {
   "cell_type": "markdown",
   "id": "16c1ce63-356a-43c7-93bf-24b7724dc4e6",
   "metadata": {},
   "source": [
    "Case-sensitive"
   ]
  },
  {
   "cell_type": "markdown",
   "id": "91bd6e68-f30e-4eff-8426-02e7ac1de4c6",
   "metadata": {},
   "source": [
    ".Column names and string value are case-sensitive"
   ]
  },
  {
   "cell_type": "markdown",
   "id": "0ffba7c2-c412-4573-bec1-1f04ed74ddb0",
   "metadata": {},
   "source": [
    ".query() returns a copy, not a view"
   ]
  },
  {
   "cell_type": "markdown",
   "id": "2fe12874-abc0-45ca-957d-64776714f761",
   "metadata": {},
   "source": [
    ". The result is a new DataFrame. Changes won't affect the original unless reassigned\n"
   ]
  },
  {
   "cell_type": "markdown",
   "id": "72c040e9-6f87-421b-a59f-71210e6ee72f",
   "metadata": {},
   "source": [
    "# Summary\n",
    ". Use df[col], .iloc[], .at[], .iat[] to access data\n",
    ". Filter with logical conditions or .query() for readable code\n",
    ". Mastering selection makes the rest of pandas feel easy"
   ]
  },
  {
   "cell_type": "code",
   "execution_count": null,
   "id": "0619be0b-d4fc-4d32-a2f6-ab0e5d322780",
   "metadata": {},
   "outputs": [],
   "source": []
  }
 ],
 "metadata": {
  "kernelspec": {
   "display_name": "Python 3 (ipykernel)",
   "language": "python",
   "name": "python3"
  },
  "language_info": {
   "codemirror_mode": {
    "name": "ipython",
    "version": 3
   },
   "file_extension": ".py",
   "mimetype": "text/x-python",
   "name": "python",
   "nbconvert_exporter": "python",
   "pygments_lexer": "ipython3",
   "version": "3.13.3"
  }
 },
 "nbformat": 4,
 "nbformat_minor": 5
}
